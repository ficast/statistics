{
 "cells": [
  {
   "cell_type": "code",
   "execution_count": 4,
   "metadata": {},
   "outputs": [],
   "source": [
    "import numpy as np\n",
    "import pandas as pd\n",
    "import matplotlib.pyplot as plt\n",
    "import seaborn as sns"
   ]
  },
  {
   "cell_type": "code",
   "execution_count": 5,
   "metadata": {},
   "outputs": [
    {
     "output_type": "execute_result",
     "data": {
      "text/plain": [
       "   OCORRÊNCIA GRAVIDADE MOT_ALCOOL VÍTIMA               DIA      TURNO  \\\n",
       "0           1      ALTA        SIM    NÃO     FIM-DE-SEMANA      NOITE   \n",
       "1           2     MÉDIA        SIM    NÃO  DURANTE A SEMANA  MADRUGADA   \n",
       "2           3     BAIXA        NÃO    NÃO  DURANTE A SEMANA  MADRUGADA   \n",
       "3           4     BAIXA        NÃO    NÃO  DURANTE A SEMANA      MANHÃ   \n",
       "4           5     MÉDIA        NÃO    NÃO  DURANTE A SEMANA      NOITE   \n",
       "\n",
       "   NUM_VEÍCULOS  DISTÂNCIA  TEMPO_CHEGADA  TEMPO_ATENDIMENTO  \n",
       "0             2        3.7             12                 42  \n",
       "1             5        4.5             36                 58  \n",
       "2             3        1.5             48                 38  \n",
       "3             4        1.7             56                 48  \n",
       "4             2        2.4             13                 27  "
      ],
      "text/html": "<div>\n<style scoped>\n    .dataframe tbody tr th:only-of-type {\n        vertical-align: middle;\n    }\n\n    .dataframe tbody tr th {\n        vertical-align: top;\n    }\n\n    .dataframe thead th {\n        text-align: right;\n    }\n</style>\n<table border=\"1\" class=\"dataframe\">\n  <thead>\n    <tr style=\"text-align: right;\">\n      <th></th>\n      <th>OCORRÊNCIA</th>\n      <th>GRAVIDADE</th>\n      <th>MOT_ALCOOL</th>\n      <th>VÍTIMA</th>\n      <th>DIA</th>\n      <th>TURNO</th>\n      <th>NUM_VEÍCULOS</th>\n      <th>DISTÂNCIA</th>\n      <th>TEMPO_CHEGADA</th>\n      <th>TEMPO_ATENDIMENTO</th>\n    </tr>\n  </thead>\n  <tbody>\n    <tr>\n      <th>0</th>\n      <td>1</td>\n      <td>ALTA</td>\n      <td>SIM</td>\n      <td>NÃO</td>\n      <td>FIM-DE-SEMANA</td>\n      <td>NOITE</td>\n      <td>2</td>\n      <td>3.7</td>\n      <td>12</td>\n      <td>42</td>\n    </tr>\n    <tr>\n      <th>1</th>\n      <td>2</td>\n      <td>MÉDIA</td>\n      <td>SIM</td>\n      <td>NÃO</td>\n      <td>DURANTE A SEMANA</td>\n      <td>MADRUGADA</td>\n      <td>5</td>\n      <td>4.5</td>\n      <td>36</td>\n      <td>58</td>\n    </tr>\n    <tr>\n      <th>2</th>\n      <td>3</td>\n      <td>BAIXA</td>\n      <td>NÃO</td>\n      <td>NÃO</td>\n      <td>DURANTE A SEMANA</td>\n      <td>MADRUGADA</td>\n      <td>3</td>\n      <td>1.5</td>\n      <td>48</td>\n      <td>38</td>\n    </tr>\n    <tr>\n      <th>3</th>\n      <td>4</td>\n      <td>BAIXA</td>\n      <td>NÃO</td>\n      <td>NÃO</td>\n      <td>DURANTE A SEMANA</td>\n      <td>MANHÃ</td>\n      <td>4</td>\n      <td>1.7</td>\n      <td>56</td>\n      <td>48</td>\n    </tr>\n    <tr>\n      <th>4</th>\n      <td>5</td>\n      <td>MÉDIA</td>\n      <td>NÃO</td>\n      <td>NÃO</td>\n      <td>DURANTE A SEMANA</td>\n      <td>NOITE</td>\n      <td>2</td>\n      <td>2.4</td>\n      <td>13</td>\n      <td>27</td>\n    </tr>\n  </tbody>\n</table>\n</div>"
     },
     "metadata": {},
     "execution_count": 5
    }
   ],
   "source": [
    "df = pd.read_excel('ACIDENTES.xlsx')\n",
    "df.head()"
   ]
  },
  {
   "cell_type": "code",
   "execution_count": 6,
   "metadata": {},
   "outputs": [
    {
     "output_type": "stream",
     "name": "stdout",
     "text": [
      "<class 'pandas.core.frame.DataFrame'>\nRangeIndex: 110 entries, 0 to 109\nData columns (total 10 columns):\n #   Column             Non-Null Count  Dtype  \n---  ------             --------------  -----  \n 0   OCORRÊNCIA         110 non-null    int64  \n 1   GRAVIDADE          110 non-null    object \n 2   MOT_ALCOOL         110 non-null    object \n 3   VÍTIMA             110 non-null    object \n 4   DIA                110 non-null    object \n 5   TURNO              110 non-null    object \n 6   NUM_VEÍCULOS       110 non-null    int64  \n 7   DISTÂNCIA          110 non-null    float64\n 8   TEMPO_CHEGADA      110 non-null    int64  \n 9   TEMPO_ATENDIMENTO  110 non-null    int64  \ndtypes: float64(1), int64(4), object(5)\nmemory usage: 8.7+ KB\n"
     ]
    }
   ],
   "source": [
    "df.info()"
   ]
  },
  {
   "cell_type": "code",
   "execution_count": 7,
   "metadata": {},
   "outputs": [
    {
     "output_type": "execute_result",
     "data": {
      "text/plain": [
       "       OCORRÊNCIA  NUM_VEÍCULOS  DISTÂNCIA  TEMPO_CHEGADA  TEMPO_ATENDIMENTO\n",
       "count      110.00        110.00     110.00         110.00             110.00\n",
       "mean        55.50          2.46       5.92          28.02              38.79\n",
       "std         31.90          1.08       2.45          12.43              13.85\n",
       "min          1.00          1.00       1.10           7.00              14.00\n",
       "25%         28.25          2.00       4.35          19.00              27.00\n",
       "50%         55.50          2.00       5.95          26.50              38.50\n",
       "75%         82.75          3.00       7.38          35.75              48.00\n",
       "max        110.00          6.00      11.30          56.00              74.00"
      ],
      "text/html": "<div>\n<style scoped>\n    .dataframe tbody tr th:only-of-type {\n        vertical-align: middle;\n    }\n\n    .dataframe tbody tr th {\n        vertical-align: top;\n    }\n\n    .dataframe thead th {\n        text-align: right;\n    }\n</style>\n<table border=\"1\" class=\"dataframe\">\n  <thead>\n    <tr style=\"text-align: right;\">\n      <th></th>\n      <th>OCORRÊNCIA</th>\n      <th>NUM_VEÍCULOS</th>\n      <th>DISTÂNCIA</th>\n      <th>TEMPO_CHEGADA</th>\n      <th>TEMPO_ATENDIMENTO</th>\n    </tr>\n  </thead>\n  <tbody>\n    <tr>\n      <th>count</th>\n      <td>110.00</td>\n      <td>110.00</td>\n      <td>110.00</td>\n      <td>110.00</td>\n      <td>110.00</td>\n    </tr>\n    <tr>\n      <th>mean</th>\n      <td>55.50</td>\n      <td>2.46</td>\n      <td>5.92</td>\n      <td>28.02</td>\n      <td>38.79</td>\n    </tr>\n    <tr>\n      <th>std</th>\n      <td>31.90</td>\n      <td>1.08</td>\n      <td>2.45</td>\n      <td>12.43</td>\n      <td>13.85</td>\n    </tr>\n    <tr>\n      <th>min</th>\n      <td>1.00</td>\n      <td>1.00</td>\n      <td>1.10</td>\n      <td>7.00</td>\n      <td>14.00</td>\n    </tr>\n    <tr>\n      <th>25%</th>\n      <td>28.25</td>\n      <td>2.00</td>\n      <td>4.35</td>\n      <td>19.00</td>\n      <td>27.00</td>\n    </tr>\n    <tr>\n      <th>50%</th>\n      <td>55.50</td>\n      <td>2.00</td>\n      <td>5.95</td>\n      <td>26.50</td>\n      <td>38.50</td>\n    </tr>\n    <tr>\n      <th>75%</th>\n      <td>82.75</td>\n      <td>3.00</td>\n      <td>7.38</td>\n      <td>35.75</td>\n      <td>48.00</td>\n    </tr>\n    <tr>\n      <th>max</th>\n      <td>110.00</td>\n      <td>6.00</td>\n      <td>11.30</td>\n      <td>56.00</td>\n      <td>74.00</td>\n    </tr>\n  </tbody>\n</table>\n</div>"
     },
     "metadata": {},
     "execution_count": 7
    }
   ],
   "source": [
    "ax = df.describe().round(2)\n",
    "ax\n"
   ]
  },
  {
   "cell_type": "code",
   "execution_count": 8,
   "metadata": {},
   "outputs": [
    {
     "output_type": "execute_result",
     "data": {
      "text/plain": [
       "BAIXA    58\n",
       "MÉDIA    33\n",
       "ALTA     19\n",
       "Name: GRAVIDADE, dtype: int64"
      ]
     },
     "metadata": {},
     "execution_count": 8
    }
   ],
   "source": [
    "data = df['GRAVIDADE'].value_counts()\n",
    "data"
   ]
  },
  {
   "cell_type": "code",
   "execution_count": 9,
   "metadata": {},
   "outputs": [
    {
     "output_type": "execute_result",
     "data": {
      "text/plain": [
       "BAIXA    0.527273\n",
       "MÉDIA    0.300000\n",
       "ALTA     0.172727\n",
       "Name: GRAVIDADE, dtype: float64"
      ]
     },
     "metadata": {},
     "execution_count": 9
    }
   ],
   "source": [
    "data = df['GRAVIDADE'].value_counts(normalize=True)\n",
    "data"
   ]
  },
  {
   "cell_type": "code",
   "execution_count": 10,
   "metadata": {},
   "outputs": [
    {
     "output_type": "execute_result",
     "data": {
      "text/plain": [
       "array([<AxesSubplot:ylabel='GRAVIDADE'>], dtype=object)"
      ]
     },
     "metadata": {},
     "execution_count": 10
    },
    {
     "output_type": "display_data",
     "data": {
      "text/plain": "<Figure size 432x288 with 1 Axes>",
      "image/svg+xml": "<?xml version=\"1.0\" encoding=\"utf-8\" standalone=\"no\"?>\n<!DOCTYPE svg PUBLIC \"-//W3C//DTD SVG 1.1//EN\"\n  \"http://www.w3.org/Graphics/SVG/1.1/DTD/svg11.dtd\">\n<!-- Created with matplotlib (https://matplotlib.org/) -->\n<svg height=\"231.84pt\" version=\"1.1\" viewBox=\"0 0 245.518125 231.84\" width=\"245.518125pt\" xmlns=\"http://www.w3.org/2000/svg\" xmlns:xlink=\"http://www.w3.org/1999/xlink\">\n <metadata>\n  <rdf:RDF xmlns:cc=\"http://creativecommons.org/ns#\" xmlns:dc=\"http://purl.org/dc/elements/1.1/\" xmlns:rdf=\"http://www.w3.org/1999/02/22-rdf-syntax-ns#\">\n   <cc:Work>\n    <dc:type rdf:resource=\"http://purl.org/dc/dcmitype/StillImage\"/>\n    <dc:date>2020-12-03T11:49:49.600946</dc:date>\n    <dc:format>image/svg+xml</dc:format>\n    <dc:creator>\n     <cc:Agent>\n      <dc:title>Matplotlib v3.3.2, https://matplotlib.org/</dc:title>\n     </cc:Agent>\n    </dc:creator>\n   </cc:Work>\n  </rdf:RDF>\n </metadata>\n <defs>\n  <style type=\"text/css\">*{stroke-linecap:butt;stroke-linejoin:round;}</style>\n </defs>\n <g id=\"figure_1\">\n  <g id=\"patch_1\">\n   <path d=\"M 0 231.84 \nL 245.518125 231.84 \nL 245.518125 0 \nL 0 0 \nz\n\" style=\"fill:none;\"/>\n  </g>\n  <g id=\"axes_1\">\n   <g id=\"patch_2\">\n    <path d=\"M 216.574125 115.92 \nC 216.574125 103.871131 214.070413 91.95268 209.222146 80.922287 \nC 204.373878 69.891894 197.286013 59.988349 188.409116 51.841205 \nC 179.532218 43.694062 169.058458 37.479692 157.653638 33.593134 \nC 146.248817 29.706577 134.159831 28.23197 122.15516 29.263051 \nC 110.150489 30.294132 98.490013 33.808581 87.914973 39.582988 \nC 77.339933 45.357395 68.07926 53.266756 60.721642 62.808282 \nC 53.364024 72.349807 48.068741 83.316942 45.172408 95.012518 \nC 42.276074 106.708094 41.84139 118.878924 43.895987 130.751324 \nL 129.598125 115.92 \nL 216.574125 115.92 \nz\n\" style=\"fill:#1f77b4;\"/>\n   </g>\n   <g id=\"patch_3\">\n    <path d=\"M 43.895987 130.751324 \nC 46.236411 144.275354 51.745129 157.055295 59.970242 168.042764 \nC 68.195356 179.030233 78.905632 187.916338 91.222469 193.972121 \nC 103.539306 200.027904 117.116438 203.083117 130.840088 202.887132 \nC 144.563738 202.691147 158.048089 199.249473 170.186975 192.844442 \nL 129.598125 115.92 \nL 43.895987 130.751324 \nz\n\" style=\"fill:#ff7f0e;\"/>\n   </g>\n   <g id=\"patch_4\">\n    <path d=\"M 170.186975 192.844442 \nC 184.185821 185.458011 195.90637 174.388524 204.079934 160.834192 \nC 212.253498 147.279861 216.574124 131.748054 216.574125 115.920008 \nL 129.598125 115.92 \nL 170.186975 192.844442 \nz\n\" style=\"fill:#2ca02c;\"/>\n   </g>\n   <g id=\"matplotlib.axis_1\"/>\n   <g id=\"matplotlib.axis_2\">\n    <g id=\"text_1\">\n     <!-- GRAVIDADE -->\n     <g transform=\"translate(14.798438 145.2575)rotate(-90)scale(0.1 -0.1)\">\n      <defs>\n       <path d=\"M 59.515625 10.40625 \nL 59.515625 29.984375 \nL 43.40625 29.984375 \nL 43.40625 38.09375 \nL 69.28125 38.09375 \nL 69.28125 6.78125 \nQ 63.578125 2.734375 56.6875 0.65625 \nQ 49.8125 -1.421875 42 -1.421875 \nQ 24.90625 -1.421875 15.25 8.5625 \nQ 5.609375 18.5625 5.609375 36.375 \nQ 5.609375 54.25 15.25 64.234375 \nQ 24.90625 74.21875 42 74.21875 \nQ 49.125 74.21875 55.546875 72.453125 \nQ 61.96875 70.703125 67.390625 67.28125 \nL 67.390625 56.78125 \nQ 61.921875 61.421875 55.765625 63.765625 \nQ 49.609375 66.109375 42.828125 66.109375 \nQ 29.4375 66.109375 22.71875 58.640625 \nQ 16.015625 51.171875 16.015625 36.375 \nQ 16.015625 21.625 22.71875 14.15625 \nQ 29.4375 6.6875 42.828125 6.6875 \nQ 48.046875 6.6875 52.140625 7.59375 \nQ 56.25 8.5 59.515625 10.40625 \nz\n\" id=\"DejaVuSans-71\"/>\n       <path d=\"M 44.390625 34.1875 \nQ 47.5625 33.109375 50.5625 29.59375 \nQ 53.5625 26.078125 56.59375 19.921875 \nL 66.609375 0 \nL 56 0 \nL 46.6875 18.703125 \nQ 43.0625 26.03125 39.671875 28.421875 \nQ 36.28125 30.8125 30.421875 30.8125 \nL 19.671875 30.8125 \nL 19.671875 0 \nL 9.8125 0 \nL 9.8125 72.90625 \nL 32.078125 72.90625 \nQ 44.578125 72.90625 50.734375 67.671875 \nQ 56.890625 62.453125 56.890625 51.90625 \nQ 56.890625 45.015625 53.6875 40.46875 \nQ 50.484375 35.9375 44.390625 34.1875 \nz\nM 19.671875 64.796875 \nL 19.671875 38.921875 \nL 32.078125 38.921875 \nQ 39.203125 38.921875 42.84375 42.21875 \nQ 46.484375 45.515625 46.484375 51.90625 \nQ 46.484375 58.296875 42.84375 61.546875 \nQ 39.203125 64.796875 32.078125 64.796875 \nz\n\" id=\"DejaVuSans-82\"/>\n       <path d=\"M 34.1875 63.1875 \nL 20.796875 26.90625 \nL 47.609375 26.90625 \nz\nM 28.609375 72.90625 \nL 39.796875 72.90625 \nL 67.578125 0 \nL 57.328125 0 \nL 50.6875 18.703125 \nL 17.828125 18.703125 \nL 11.1875 0 \nL 0.78125 0 \nz\n\" id=\"DejaVuSans-65\"/>\n       <path d=\"M 28.609375 0 \nL 0.78125 72.90625 \nL 11.078125 72.90625 \nL 34.1875 11.53125 \nL 57.328125 72.90625 \nL 67.578125 72.90625 \nL 39.796875 0 \nz\n\" id=\"DejaVuSans-86\"/>\n       <path d=\"M 9.8125 72.90625 \nL 19.671875 72.90625 \nL 19.671875 0 \nL 9.8125 0 \nz\n\" id=\"DejaVuSans-73\"/>\n       <path d=\"M 19.671875 64.796875 \nL 19.671875 8.109375 \nL 31.59375 8.109375 \nQ 46.6875 8.109375 53.6875 14.9375 \nQ 60.6875 21.78125 60.6875 36.53125 \nQ 60.6875 51.171875 53.6875 57.984375 \nQ 46.6875 64.796875 31.59375 64.796875 \nz\nM 9.8125 72.90625 \nL 30.078125 72.90625 \nQ 51.265625 72.90625 61.171875 64.09375 \nQ 71.09375 55.28125 71.09375 36.53125 \nQ 71.09375 17.671875 61.125 8.828125 \nQ 51.171875 0 30.078125 0 \nL 9.8125 0 \nz\n\" id=\"DejaVuSans-68\"/>\n       <path d=\"M 9.8125 72.90625 \nL 55.90625 72.90625 \nL 55.90625 64.59375 \nL 19.671875 64.59375 \nL 19.671875 43.015625 \nL 54.390625 43.015625 \nL 54.390625 34.71875 \nL 19.671875 34.71875 \nL 19.671875 8.296875 \nL 56.78125 8.296875 \nL 56.78125 0 \nL 9.8125 0 \nz\n\" id=\"DejaVuSans-69\"/>\n      </defs>\n      <use xlink:href=\"#DejaVuSans-71\"/>\n      <use x=\"77.490234\" xlink:href=\"#DejaVuSans-82\"/>\n      <use x=\"142.972656\" xlink:href=\"#DejaVuSans-65\"/>\n      <use x=\"205.005859\" xlink:href=\"#DejaVuSans-86\"/>\n      <use x=\"273.414062\" xlink:href=\"#DejaVuSans-73\"/>\n      <use x=\"302.90625\" xlink:href=\"#DejaVuSans-68\"/>\n      <use x=\"378.158203\" xlink:href=\"#DejaVuSans-65\"/>\n      <use x=\"446.566406\" xlink:href=\"#DejaVuSans-68\"/>\n      <use x=\"523.568359\" xlink:href=\"#DejaVuSans-69\"/>\n     </g>\n    </g>\n   </g>\n   <g id=\"text_2\">\n    <!-- BAIXA -->\n    <g transform=\"translate(91.068676 23.356731)scale(0.1 -0.1)\">\n     <defs>\n      <path d=\"M 19.671875 34.8125 \nL 19.671875 8.109375 \nL 35.5 8.109375 \nQ 43.453125 8.109375 47.28125 11.40625 \nQ 51.125 14.703125 51.125 21.484375 \nQ 51.125 28.328125 47.28125 31.5625 \nQ 43.453125 34.8125 35.5 34.8125 \nz\nM 19.671875 64.796875 \nL 19.671875 42.828125 \nL 34.28125 42.828125 \nQ 41.5 42.828125 45.03125 45.53125 \nQ 48.578125 48.25 48.578125 53.8125 \nQ 48.578125 59.328125 45.03125 62.0625 \nQ 41.5 64.796875 34.28125 64.796875 \nz\nM 9.8125 72.90625 \nL 35.015625 72.90625 \nQ 46.296875 72.90625 52.390625 68.21875 \nQ 58.5 63.53125 58.5 54.890625 \nQ 58.5 48.1875 55.375 44.234375 \nQ 52.25 40.28125 46.1875 39.3125 \nQ 53.46875 37.75 57.5 32.78125 \nQ 61.53125 27.828125 61.53125 20.40625 \nQ 61.53125 10.640625 54.890625 5.3125 \nQ 48.25 0 35.984375 0 \nL 9.8125 0 \nz\n\" id=\"DejaVuSans-66\"/>\n      <path d=\"M 6.296875 72.90625 \nL 16.890625 72.90625 \nL 35.015625 45.796875 \nL 53.21875 72.90625 \nL 63.8125 72.90625 \nL 40.375 37.890625 \nL 65.375 0 \nL 54.78125 0 \nL 34.28125 31 \nL 13.625 0 \nL 2.984375 0 \nL 29 38.921875 \nz\n\" id=\"DejaVuSans-88\"/>\n     </defs>\n     <use xlink:href=\"#DejaVuSans-66\"/>\n     <use x=\"68.603516\" xlink:href=\"#DejaVuSans-65\"/>\n     <use x=\"137.011719\" xlink:href=\"#DejaVuSans-73\"/>\n     <use x=\"166.503906\" xlink:href=\"#DejaVuSans-88\"/>\n     <use x=\"235.009766\" xlink:href=\"#DejaVuSans-65\"/>\n    </g>\n   </g>\n   <g id=\"text_3\">\n    <!-- MÉDIA -->\n    <g transform=\"translate(54.947403 204.536708)scale(0.1 -0.1)\">\n     <defs>\n      <path d=\"M 9.8125 72.90625 \nL 24.515625 72.90625 \nL 43.109375 23.296875 \nL 61.8125 72.90625 \nL 76.515625 72.90625 \nL 76.515625 0 \nL 66.890625 0 \nL 66.890625 64.015625 \nL 48.09375 14.015625 \nL 38.1875 14.015625 \nL 19.390625 64.015625 \nL 19.390625 0 \nL 9.8125 0 \nz\n\" id=\"DejaVuSans-77\"/>\n      <path d=\"M 9.8125 72.90625 \nL 55.90625 72.90625 \nL 55.90625 64.59375 \nL 19.671875 64.59375 \nL 19.671875 43.015625 \nL 54.390625 43.015625 \nL 54.390625 34.71875 \nL 19.671875 34.71875 \nL 19.671875 8.296875 \nL 56.78125 8.296875 \nL 56.78125 0 \nL 9.8125 0 \nz\nM 35.4375 92.515625 \nL 44.46875 92.515625 \nL 33.34375 79.625 \nL 25.859375 79.625 \nz\n\" id=\"DejaVuSans-201\"/>\n     </defs>\n     <use xlink:href=\"#DejaVuSans-77\"/>\n     <use x=\"86.279297\" xlink:href=\"#DejaVuSans-201\"/>\n     <use x=\"149.462891\" xlink:href=\"#DejaVuSans-68\"/>\n     <use x=\"226.464844\" xlink:href=\"#DejaVuSans-73\"/>\n     <use x=\"255.957031\" xlink:href=\"#DejaVuSans-65\"/>\n    </g>\n   </g>\n   <g id=\"text_4\">\n    <!-- ALTA -->\n    <g transform=\"translate(211.528115 168.084987)scale(0.1 -0.1)\">\n     <defs>\n      <path d=\"M 9.8125 72.90625 \nL 19.671875 72.90625 \nL 19.671875 8.296875 \nL 55.171875 8.296875 \nL 55.171875 0 \nL 9.8125 0 \nz\n\" id=\"DejaVuSans-76\"/>\n      <path d=\"M -0.296875 72.90625 \nL 61.375 72.90625 \nL 61.375 64.59375 \nL 35.5 64.59375 \nL 35.5 0 \nL 25.59375 0 \nL 25.59375 64.59375 \nL -0.296875 64.59375 \nz\n\" id=\"DejaVuSans-84\"/>\n     </defs>\n     <use xlink:href=\"#DejaVuSans-65\"/>\n     <use x=\"68.408203\" xlink:href=\"#DejaVuSans-76\"/>\n     <use x=\"110.371094\" xlink:href=\"#DejaVuSans-84\"/>\n     <use x=\"163.705078\" xlink:href=\"#DejaVuSans-65\"/>\n    </g>\n   </g>\n  </g>\n </g>\n</svg>\n",
      "image/png": "[encoded data removed]"
     },
     "metadata": {}
    }
   ],
   "source": [
    "data.plot(kind='pie', subplots=True)"
   ]
  },
  {
   "cell_type": "code",
   "execution_count": 11,
   "metadata": {},
   "outputs": [
    {
     "output_type": "execute_result",
     "data": {
      "text/plain": [
       "GRAVIDADE  VÍTIMA\n",
       "ALTA       NÃO        5\n",
       "           SIM       14\n",
       "BAIXA      NÃO       53\n",
       "           SIM        5\n",
       "MÉDIA      NÃO       26\n",
       "           SIM        7\n",
       "dtype: int64"
      ]
     },
     "metadata": {},
     "execution_count": 11
    }
   ],
   "source": [
    "data = df.pivot_table(index=['GRAVIDADE','VÍTIMA'], aggfunc='size')\n",
    "data"
   ]
  },
  {
   "cell_type": "code",
   "execution_count": 12,
   "metadata": {},
   "outputs": [
    {
     "output_type": "execute_result",
     "data": {
      "text/plain": [
       "GRAVIDADE  VÍTIMA\n",
       "BAIXA      NÃO       53\n",
       "MÉDIA      NÃO       26\n",
       "ALTA       SIM       14\n",
       "MÉDIA      SIM        7\n",
       "BAIXA      SIM        5\n",
       "ALTA       NÃO        5\n",
       "dtype: int64"
      ]
     },
     "metadata": {},
     "execution_count": 12
    }
   ],
   "source": [
    "df.value_counts(['GRAVIDADE','VÍTIMA'])"
   ]
  },
  {
   "cell_type": "code",
   "execution_count": 13,
   "metadata": {},
   "outputs": [
    {
     "output_type": "execute_result",
     "data": {
      "text/plain": [
       "VÍTIMA     NÃO  SIM\n",
       "GRAVIDADE          \n",
       "BAIXA       53    5\n",
       "MÉDIA       26    7\n",
       "ALTA         5   14"
      ],
      "text/html": "<div>\n<style scoped>\n    .dataframe tbody tr th:only-of-type {\n        vertical-align: middle;\n    }\n\n    .dataframe tbody tr th {\n        vertical-align: top;\n    }\n\n    .dataframe thead th {\n        text-align: right;\n    }\n</style>\n<table border=\"1\" class=\"dataframe\">\n  <thead>\n    <tr style=\"text-align: right;\">\n      <th>VÍTIMA</th>\n      <th>NÃO</th>\n      <th>SIM</th>\n    </tr>\n    <tr>\n      <th>GRAVIDADE</th>\n      <th></th>\n      <th></th>\n    </tr>\n  </thead>\n  <tbody>\n    <tr>\n      <th>BAIXA</th>\n      <td>53</td>\n      <td>5</td>\n    </tr>\n    <tr>\n      <th>MÉDIA</th>\n      <td>26</td>\n      <td>7</td>\n    </tr>\n    <tr>\n      <th>ALTA</th>\n      <td>5</td>\n      <td>14</td>\n    </tr>\n  </tbody>\n</table>\n</div>"
     },
     "metadata": {},
     "execution_count": 13
    }
   ],
   "source": [
    "pd.crosstab(df['GRAVIDADE'],df['VÍTIMA']).iloc[[1,2,0]]"
   ]
  },
  {
   "cell_type": "code",
   "execution_count": 14,
   "metadata": {},
   "outputs": [
    {
     "output_type": "execute_result",
     "data": {
      "text/plain": [
       "VÍTIMA          NÃO       SIM\n",
       "GRAVIDADE                    \n",
       "BAIXA      0.481818  0.045455\n",
       "MÉDIA      0.236364  0.063636\n",
       "ALTA       0.045455  0.127273"
      ],
      "text/html": "<div>\n<style scoped>\n    .dataframe tbody tr th:only-of-type {\n        vertical-align: middle;\n    }\n\n    .dataframe tbody tr th {\n        vertical-align: top;\n    }\n\n    .dataframe thead th {\n        text-align: right;\n    }\n</style>\n<table border=\"1\" class=\"dataframe\">\n  <thead>\n    <tr style=\"text-align: right;\">\n      <th>VÍTIMA</th>\n      <th>NÃO</th>\n      <th>SIM</th>\n    </tr>\n    <tr>\n      <th>GRAVIDADE</th>\n      <th></th>\n      <th></th>\n    </tr>\n  </thead>\n  <tbody>\n    <tr>\n      <th>BAIXA</th>\n      <td>0.481818</td>\n      <td>0.045455</td>\n    </tr>\n    <tr>\n      <th>MÉDIA</th>\n      <td>0.236364</td>\n      <td>0.063636</td>\n    </tr>\n    <tr>\n      <th>ALTA</th>\n      <td>0.045455</td>\n      <td>0.127273</td>\n    </tr>\n  </tbody>\n</table>\n</div>"
     },
     "metadata": {},
     "execution_count": 14
    }
   ],
   "source": [
    "pd.crosstab(df['GRAVIDADE'],df['VÍTIMA'], normalize=True).iloc[[1,2,0]]"
   ]
  },
  {
   "cell_type": "code",
   "execution_count": 15,
   "metadata": {},
   "outputs": [
    {
     "output_type": "execute_result",
     "data": {
      "text/plain": [
       "MADRUGADA    16\n",
       "MANHÃ        24\n",
       "TARDE        36\n",
       "NOITE        34\n",
       "Name: TURNO, dtype: int64"
      ]
     },
     "metadata": {},
     "execution_count": 15
    }
   ],
   "source": [
    "data = df['TURNO'].value_counts().iloc[[3,2,0,1]]\n",
    "data"
   ]
  },
  {
   "cell_type": "code",
   "execution_count": 16,
   "metadata": {},
   "outputs": [
    {
     "output_type": "execute_result",
     "data": {
      "text/plain": [
       "MADRUGADA    0.145455\n",
       "MANHÃ        0.218182\n",
       "TARDE        0.327273\n",
       "NOITE        0.309091\n",
       "Name: TURNO, dtype: float64"
      ]
     },
     "metadata": {},
     "execution_count": 16
    }
   ],
   "source": [
    "data = df['TURNO'].value_counts(normalize=True).iloc[[3,2,0,1]]\n",
    "data"
   ]
  },
  {
   "cell_type": "code",
   "execution_count": 17,
   "metadata": {},
   "outputs": [
    {
     "output_type": "execute_result",
     "data": {
      "text/plain": [
       "array([<AxesSubplot:ylabel='TURNO'>], dtype=object)"
      ]
     },
     "metadata": {},
     "execution_count": 17
    },
    {
     "output_type": "display_data",
     "data": {
      "text/plain": "<Figure size 432x288 with 1 Axes>",
      "image/svg+xml": "<?xml version=\"1.0\" encoding=\"utf-8\" standalone=\"no\"?>\n<!DOCTYPE svg PUBLIC \"-//W3C//DTD SVG 1.1//EN\"\n  \"http://www.w3.org/Graphics/SVG/1.1/DTD/svg11.dtd\">\n<!-- Created with matplotlib (https://matplotlib.org/) -->\n<svg height=\"231.84pt\" version=\"1.1\" viewBox=\"0 0 294.060939 231.84\" width=\"294.060939pt\" xmlns=\"http://www.w3.org/2000/svg\" xmlns:xlink=\"http://www.w3.org/1999/xlink\">\n <metadata>\n  <rdf:RDF xmlns:cc=\"http://creativecommons.org/ns#\" xmlns:dc=\"http://purl.org/dc/elements/1.1/\" xmlns:rdf=\"http://www.w3.org/1999/02/22-rdf-syntax-ns#\">\n   <cc:Work>\n    <dc:type rdf:resource=\"http://purl.org/dc/dcmitype/StillImage\"/>\n    <dc:date>2020-12-03T11:49:49.862099</dc:date>\n    <dc:format>image/svg+xml</dc:format>\n    <dc:creator>\n     <cc:Agent>\n      <dc:title>Matplotlib v3.3.2, https://matplotlib.org/</dc:title>\n     </cc:Agent>\n    </dc:creator>\n   </cc:Work>\n  </rdf:RDF>\n </metadata>\n <defs>\n  <style type=\"text/css\">*{stroke-linecap:butt;stroke-linejoin:round;}</style>\n </defs>\n <g id=\"figure_1\">\n  <g id=\"patch_1\">\n   <path d=\"M 0 231.84 \nL 294.060939 231.84 \nL 294.060939 0 \nL 0 0 \nz\n\" style=\"fill:none;\"/>\n  </g>\n  <g id=\"axes_1\">\n   <g id=\"patch_2\">\n    <path d=\"M 221.588975 115.92 \nC 221.588975 102.614485 218.535775 89.484703 212.665101 77.544355 \nC 206.794427 65.604006 198.261354 55.168497 187.724687 47.043512 \nL 134.612975 115.92 \nL 221.588975 115.92 \nz\n\" style=\"fill:#1f77b4;\"/>\n   </g>\n   <g id=\"patch_3\">\n    <path d=\"M 187.724687 47.043512 \nC 171.835469 34.791093 152.185724 28.406504 132.129286 28.979469 \nC 112.072848 29.552435 92.819638 37.048392 77.655809 50.187924 \nL 134.612975 115.92 \nL 187.724687 47.043512 \nz\n\" style=\"fill:#ff7f0e;\"/>\n   </g>\n   <g id=\"patch_4\">\n    <path d=\"M 77.655809 50.187924 \nC 66.330342 60.001496 57.731071 72.577529 52.695121 86.691764 \nC 47.659171 100.805999 46.355438 115.985075 48.910839 130.751332 \nC 51.466239 145.517589 57.79507 159.375799 67.281229 170.976885 \nC 76.767388 182.577971 89.092731 191.532859 103.057403 196.969802 \nL 134.612975 115.92 \nL 77.655809 50.187924 \nz\n\" style=\"fill:#2ca02c;\"/>\n   </g>\n   <g id=\"patch_5\">\n    <path d=\"M 103.057403 196.969802 \nC 116.238548 202.101691 130.474758 203.941467 144.527482 202.329068 \nC 158.580206 200.71667 172.029743 195.700254 183.705981 187.716249 \nC 195.382219 179.732244 204.936434 169.019101 211.537409 156.508865 \nC 218.138385 143.998629 221.588974 130.064932 221.588975 115.920008 \nL 134.612975 115.92 \nL 103.057403 196.969802 \nz\n\" style=\"fill:#d62728;\"/>\n   </g>\n   <g id=\"matplotlib.axis_1\"/>\n   <g id=\"matplotlib.axis_2\">\n    <g id=\"text_1\">\n     <!-- TURNO -->\n     <g transform=\"translate(19.813287 133.784062)rotate(-90)scale(0.1 -0.1)\">\n      <defs>\n       <path d=\"M -0.296875 72.90625 \nL 61.375 72.90625 \nL 61.375 64.59375 \nL 35.5 64.59375 \nL 35.5 0 \nL 25.59375 0 \nL 25.59375 64.59375 \nL -0.296875 64.59375 \nz\n\" id=\"DejaVuSans-84\"/>\n       <path d=\"M 8.6875 72.90625 \nL 18.609375 72.90625 \nL 18.609375 28.609375 \nQ 18.609375 16.890625 22.84375 11.734375 \nQ 27.09375 6.59375 36.625 6.59375 \nQ 46.09375 6.59375 50.34375 11.734375 \nQ 54.59375 16.890625 54.59375 28.609375 \nL 54.59375 72.90625 \nL 64.5 72.90625 \nL 64.5 27.390625 \nQ 64.5 13.140625 57.4375 5.859375 \nQ 50.390625 -1.421875 36.625 -1.421875 \nQ 22.796875 -1.421875 15.734375 5.859375 \nQ 8.6875 13.140625 8.6875 27.390625 \nz\n\" id=\"DejaVuSans-85\"/>\n       <path d=\"M 44.390625 34.1875 \nQ 47.5625 33.109375 50.5625 29.59375 \nQ 53.5625 26.078125 56.59375 19.921875 \nL 66.609375 0 \nL 56 0 \nL 46.6875 18.703125 \nQ 43.0625 26.03125 39.671875 28.421875 \nQ 36.28125 30.8125 30.421875 30.8125 \nL 19.671875 30.8125 \nL 19.671875 0 \nL 9.8125 0 \nL 9.8125 72.90625 \nL 32.078125 72.90625 \nQ 44.578125 72.90625 50.734375 67.671875 \nQ 56.890625 62.453125 56.890625 51.90625 \nQ 56.890625 45.015625 53.6875 40.46875 \nQ 50.484375 35.9375 44.390625 34.1875 \nz\nM 19.671875 64.796875 \nL 19.671875 38.921875 \nL 32.078125 38.921875 \nQ 39.203125 38.921875 42.84375 42.21875 \nQ 46.484375 45.515625 46.484375 51.90625 \nQ 46.484375 58.296875 42.84375 61.546875 \nQ 39.203125 64.796875 32.078125 64.796875 \nz\n\" id=\"DejaVuSans-82\"/>\n       <path d=\"M 9.8125 72.90625 \nL 23.09375 72.90625 \nL 55.421875 11.921875 \nL 55.421875 72.90625 \nL 64.984375 72.90625 \nL 64.984375 0 \nL 51.703125 0 \nL 19.390625 60.984375 \nL 19.390625 0 \nL 9.8125 0 \nz\n\" id=\"DejaVuSans-78\"/>\n       <path d=\"M 39.40625 66.21875 \nQ 28.65625 66.21875 22.328125 58.203125 \nQ 16.015625 50.203125 16.015625 36.375 \nQ 16.015625 22.609375 22.328125 14.59375 \nQ 28.65625 6.59375 39.40625 6.59375 \nQ 50.140625 6.59375 56.421875 14.59375 \nQ 62.703125 22.609375 62.703125 36.375 \nQ 62.703125 50.203125 56.421875 58.203125 \nQ 50.140625 66.21875 39.40625 66.21875 \nz\nM 39.40625 74.21875 \nQ 54.734375 74.21875 63.90625 63.9375 \nQ 73.09375 53.65625 73.09375 36.375 \nQ 73.09375 19.140625 63.90625 8.859375 \nQ 54.734375 -1.421875 39.40625 -1.421875 \nQ 24.03125 -1.421875 14.8125 8.828125 \nQ 5.609375 19.09375 5.609375 36.375 \nQ 5.609375 53.65625 14.8125 63.9375 \nQ 24.03125 74.21875 39.40625 74.21875 \nz\n\" id=\"DejaVuSans-79\"/>\n      </defs>\n      <use xlink:href=\"#DejaVuSans-84\"/>\n      <use x=\"61.083984\" xlink:href=\"#DejaVuSans-85\"/>\n      <use x=\"134.277344\" xlink:href=\"#DejaVuSans-82\"/>\n      <use x=\"203.759766\" xlink:href=\"#DejaVuSans-78\"/>\n      <use x=\"278.564453\" xlink:href=\"#DejaVuSans-79\"/>\n     </g>\n    </g>\n   </g>\n   <g id=\"text_2\">\n    <!-- MADRUGADA -->\n    <g transform=\"translate(220.470314 76.466165)scale(0.1 -0.1)\">\n     <defs>\n      <path d=\"M 9.8125 72.90625 \nL 24.515625 72.90625 \nL 43.109375 23.296875 \nL 61.8125 72.90625 \nL 76.515625 72.90625 \nL 76.515625 0 \nL 66.890625 0 \nL 66.890625 64.015625 \nL 48.09375 14.015625 \nL 38.1875 14.015625 \nL 19.390625 64.015625 \nL 19.390625 0 \nL 9.8125 0 \nz\n\" id=\"DejaVuSans-77\"/>\n      <path d=\"M 34.1875 63.1875 \nL 20.796875 26.90625 \nL 47.609375 26.90625 \nz\nM 28.609375 72.90625 \nL 39.796875 72.90625 \nL 67.578125 0 \nL 57.328125 0 \nL 50.6875 18.703125 \nL 17.828125 18.703125 \nL 11.1875 0 \nL 0.78125 0 \nz\n\" id=\"DejaVuSans-65\"/>\n      <path d=\"M 19.671875 64.796875 \nL 19.671875 8.109375 \nL 31.59375 8.109375 \nQ 46.6875 8.109375 53.6875 14.9375 \nQ 60.6875 21.78125 60.6875 36.53125 \nQ 60.6875 51.171875 53.6875 57.984375 \nQ 46.6875 64.796875 31.59375 64.796875 \nz\nM 9.8125 72.90625 \nL 30.078125 72.90625 \nQ 51.265625 72.90625 61.171875 64.09375 \nQ 71.09375 55.28125 71.09375 36.53125 \nQ 71.09375 17.671875 61.125 8.828125 \nQ 51.171875 0 30.078125 0 \nL 9.8125 0 \nz\n\" id=\"DejaVuSans-68\"/>\n      <path d=\"M 59.515625 10.40625 \nL 59.515625 29.984375 \nL 43.40625 29.984375 \nL 43.40625 38.09375 \nL 69.28125 38.09375 \nL 69.28125 6.78125 \nQ 63.578125 2.734375 56.6875 0.65625 \nQ 49.8125 -1.421875 42 -1.421875 \nQ 24.90625 -1.421875 15.25 8.5625 \nQ 5.609375 18.5625 5.609375 36.375 \nQ 5.609375 54.25 15.25 64.234375 \nQ 24.90625 74.21875 42 74.21875 \nQ 49.125 74.21875 55.546875 72.453125 \nQ 61.96875 70.703125 67.390625 67.28125 \nL 67.390625 56.78125 \nQ 61.921875 61.421875 55.765625 63.765625 \nQ 49.609375 66.109375 42.828125 66.109375 \nQ 29.4375 66.109375 22.71875 58.640625 \nQ 16.015625 51.171875 16.015625 36.375 \nQ 16.015625 21.625 22.71875 14.15625 \nQ 29.4375 6.6875 42.828125 6.6875 \nQ 48.046875 6.6875 52.140625 7.59375 \nQ 56.25 8.5 59.515625 10.40625 \nz\n\" id=\"DejaVuSans-71\"/>\n     </defs>\n     <use xlink:href=\"#DejaVuSans-77\"/>\n     <use x=\"86.279297\" xlink:href=\"#DejaVuSans-65\"/>\n     <use x=\"154.6875\" xlink:href=\"#DejaVuSans-68\"/>\n     <use x=\"231.689453\" xlink:href=\"#DejaVuSans-82\"/>\n     <use x=\"301.171875\" xlink:href=\"#DejaVuSans-85\"/>\n     <use x=\"374.365234\" xlink:href=\"#DejaVuSans-71\"/>\n     <use x=\"451.855469\" xlink:href=\"#DejaVuSans-65\"/>\n     <use x=\"520.263672\" xlink:href=\"#DejaVuSans-68\"/>\n     <use x=\"595.515625\" xlink:href=\"#DejaVuSans-65\"/>\n    </g>\n   </g>\n   <g id=\"text_3\">\n    <!-- MANHÃ -->\n    <g transform=\"translate(94.56998 23.044791)scale(0.1 -0.1)\">\n     <defs>\n      <path d=\"M 9.8125 72.90625 \nL 19.671875 72.90625 \nL 19.671875 43.015625 \nL 55.515625 43.015625 \nL 55.515625 72.90625 \nL 65.375 72.90625 \nL 65.375 0 \nL 55.515625 0 \nL 55.515625 34.71875 \nL 19.671875 34.71875 \nL 19.671875 0 \nL 9.8125 0 \nz\n\" id=\"DejaVuSans-72\"/>\n      <path d=\"M 34.1875 63.1875 \nL 20.796875 26.90625 \nL 47.609375 26.90625 \nz\nM 28.609375 72.90625 \nL 39.796875 72.90625 \nL 67.578125 0 \nL 57.328125 0 \nL 50.6875 18.703125 \nL 17.828125 18.703125 \nL 11.1875 0 \nL 0.78125 0 \nz\nM 33.9375 83.28125 \nL 31.140625 84.890625 \nQ 29.921875 85.578125 29.15625 85.84375 \nQ 28.40625 86.109375 27.828125 86.109375 \nQ 26.0625 86.109375 25.078125 84.890625 \nQ 24.109375 83.671875 24.109375 81.484375 \nL 24.109375 81.1875 \nL 18.015625 81.1875 \nQ 18.015625 86.109375 20.53125 88.984375 \nQ 23.046875 91.875 27.234375 91.875 \nQ 29 91.875 30.484375 91.484375 \nQ 31.984375 91.09375 34.328125 89.78125 \nL 37.109375 88.3125 \nQ 38.234375 87.671875 39.0625 87.375 \nQ 39.890625 87.09375 40.625 87.09375 \nQ 42.1875 87.09375 43.15625 88.328125 \nQ 44.140625 89.578125 44.140625 91.578125 \nL 44.140625 91.875 \nL 50.234375 91.875 \nQ 50.140625 87 47.625 84.09375 \nQ 45.109375 81.1875 41.015625 81.1875 \nQ 39.34375 81.1875 37.90625 81.578125 \nQ 36.46875 81.96875 33.9375 83.28125 \nz\n\" id=\"DejaVuSans-195\"/>\n     </defs>\n     <use xlink:href=\"#DejaVuSans-77\"/>\n     <use x=\"86.279297\" xlink:href=\"#DejaVuSans-65\"/>\n     <use x=\"154.6875\" xlink:href=\"#DejaVuSans-78\"/>\n     <use x=\"229.492188\" xlink:href=\"#DejaVuSans-72\"/>\n     <use x=\"304.6875\" xlink:href=\"#DejaVuSans-195\"/>\n    </g>\n   </g>\n   <g id=\"text_4\">\n    <!-- TARDE -->\n    <g transform=\"translate(7.2 134.99384)scale(0.1 -0.1)\">\n     <defs>\n      <path d=\"M 9.8125 72.90625 \nL 55.90625 72.90625 \nL 55.90625 64.59375 \nL 19.671875 64.59375 \nL 19.671875 43.015625 \nL 54.390625 43.015625 \nL 54.390625 34.71875 \nL 19.671875 34.71875 \nL 19.671875 8.296875 \nL 56.78125 8.296875 \nL 56.78125 0 \nL 9.8125 0 \nz\n\" id=\"DejaVuSans-69\"/>\n     </defs>\n     <use xlink:href=\"#DejaVuSans-84\"/>\n     <use x=\"53.333984\" xlink:href=\"#DejaVuSans-65\"/>\n     <use x=\"121.742188\" xlink:href=\"#DejaVuSans-82\"/>\n     <use x=\"191.224609\" xlink:href=\"#DejaVuSans-68\"/>\n     <use x=\"268.226562\" xlink:href=\"#DejaVuSans-69\"/>\n    </g>\n   </g>\n   <g id=\"text_5\">\n    <!-- NOITE -->\n    <g transform=\"translate(188.615281 197.655249)scale(0.1 -0.1)\">\n     <defs>\n      <path d=\"M 9.8125 72.90625 \nL 19.671875 72.90625 \nL 19.671875 0 \nL 9.8125 0 \nz\n\" id=\"DejaVuSans-73\"/>\n     </defs>\n     <use xlink:href=\"#DejaVuSans-78\"/>\n     <use x=\"74.804688\" xlink:href=\"#DejaVuSans-79\"/>\n     <use x=\"153.515625\" xlink:href=\"#DejaVuSans-73\"/>\n     <use x=\"183.007812\" xlink:href=\"#DejaVuSans-84\"/>\n     <use x=\"244.091797\" xlink:href=\"#DejaVuSans-69\"/>\n    </g>\n   </g>\n  </g>\n </g>\n</svg>\n",
      "image/png": "[encoded data removed]"
     },
     "metadata": {}
    }
   ],
   "source": [
    "data.plot(kind='pie', subplots=True)"
   ]
  },
  {
   "cell_type": "code",
   "execution_count": 18,
   "metadata": {},
   "outputs": [
    {
     "output_type": "execute_result",
     "data": {
      "text/plain": [
       "MOT_ALCOOL  NÃO  SIM\n",
       "TURNO               \n",
       "MADRUGADA     6   10\n",
       "MANHÃ        21    3\n",
       "TARDE        28    8\n",
       "NOITE        22   12"
      ],
      "text/html": "<div>\n<style scoped>\n    .dataframe tbody tr th:only-of-type {\n        vertical-align: middle;\n    }\n\n    .dataframe tbody tr th {\n        vertical-align: top;\n    }\n\n    .dataframe thead th {\n        text-align: right;\n    }\n</style>\n<table border=\"1\" class=\"dataframe\">\n  <thead>\n    <tr style=\"text-align: right;\">\n      <th>MOT_ALCOOL</th>\n      <th>NÃO</th>\n      <th>SIM</th>\n    </tr>\n    <tr>\n      <th>TURNO</th>\n      <th></th>\n      <th></th>\n    </tr>\n  </thead>\n  <tbody>\n    <tr>\n      <th>MADRUGADA</th>\n      <td>6</td>\n      <td>10</td>\n    </tr>\n    <tr>\n      <th>MANHÃ</th>\n      <td>21</td>\n      <td>3</td>\n    </tr>\n    <tr>\n      <th>TARDE</th>\n      <td>28</td>\n      <td>8</td>\n    </tr>\n    <tr>\n      <th>NOITE</th>\n      <td>22</td>\n      <td>12</td>\n    </tr>\n  </tbody>\n</table>\n</div>"
     },
     "metadata": {},
     "execution_count": 18
    }
   ],
   "source": [
    "pd.crosstab(df['TURNO'],df['MOT_ALCOOL']).iloc[[0,1,3,2]]"
   ]
  },
  {
   "cell_type": "code",
   "execution_count": 19,
   "metadata": {},
   "outputs": [
    {
     "output_type": "execute_result",
     "data": {
      "text/plain": [
       "MOT_ALCOOL       NÃO       SIM\n",
       "TURNO                         \n",
       "MADRUGADA   0.054545  0.090909\n",
       "MANHÃ       0.190909  0.027273\n",
       "TARDE       0.254545  0.072727\n",
       "NOITE       0.200000  0.109091"
      ],
      "text/html": "<div>\n<style scoped>\n    .dataframe tbody tr th:only-of-type {\n        vertical-align: middle;\n    }\n\n    .dataframe tbody tr th {\n        vertical-align: top;\n    }\n\n    .dataframe thead th {\n        text-align: right;\n    }\n</style>\n<table border=\"1\" class=\"dataframe\">\n  <thead>\n    <tr style=\"text-align: right;\">\n      <th>MOT_ALCOOL</th>\n      <th>NÃO</th>\n      <th>SIM</th>\n    </tr>\n    <tr>\n      <th>TURNO</th>\n      <th></th>\n      <th></th>\n    </tr>\n  </thead>\n  <tbody>\n    <tr>\n      <th>MADRUGADA</th>\n      <td>0.054545</td>\n      <td>0.090909</td>\n    </tr>\n    <tr>\n      <th>MANHÃ</th>\n      <td>0.190909</td>\n      <td>0.027273</td>\n    </tr>\n    <tr>\n      <th>TARDE</th>\n      <td>0.254545</td>\n      <td>0.072727</td>\n    </tr>\n    <tr>\n      <th>NOITE</th>\n      <td>0.200000</td>\n      <td>0.109091</td>\n    </tr>\n  </tbody>\n</table>\n</div>"
     },
     "metadata": {},
     "execution_count": 19
    }
   ],
   "source": [
    "pd.crosstab(df['TURNO'],df['MOT_ALCOOL'], normalize=True).iloc[[0,1,3,2]]"
   ]
  },
  {
   "cell_type": "code",
   "execution_count": null,
   "metadata": {},
   "outputs": [],
   "source": []
  }
 ],
 "metadata": {
  "kernelspec": {
   "display_name": "Python 3",
   "language": "python",
   "name": "python3"
  },
  "language_info": {
   "codemirror_mode": {
    "name": "ipython",
    "version": 3
   },
   "file_extension": ".py",
   "mimetype": "text/x-python",
   "name": "python",
   "nbconvert_exporter": "python",
   "pygments_lexer": "ipython3",
   "version": "3.8.6-final"
  }
 },
 "nbformat": 4,
 "nbformat_minor": 4
}